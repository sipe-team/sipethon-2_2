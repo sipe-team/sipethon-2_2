{
 "cells": [
  {
   "cell_type": "markdown",
   "metadata": {},
   "source": [
    "# 비트코인, 이더리움 OHLCV 데이터 저장"
   ]
  },
  {
   "cell_type": "code",
   "execution_count": 67,
   "metadata": {},
   "outputs": [
    {
     "name": "stdout",
     "output_type": "stream",
     "text": [
      "Saved: ../csv/ETH/KRW_ETH_minute1.csv\n",
      "Saved: ../csv/ETH/KRW_ETH_minute3.csv\n",
      "Saved: ../csv/ETH/KRW_ETH_minute5.csv\n",
      "Saved: ../csv/ETH/KRW_ETH_day.csv\n",
      "Saved: ../csv/ETH/KRW_ETH_week.csv\n",
      "Saved: ../csv/ETH/KRW_ETH_month.csv\n"
     ]
    }
   ],
   "source": [
    "import pyupbit\n",
    "import os\n",
    "\n",
    "start_date = \"2023-05-01 12:00:00\"\n",
    "end_date = \"2024-05-23 12:00:00\"\n",
    "tickers = [\"KRW-ETH\"]\n",
    "intervals = [\"minute1\", \"minute3\", \"minute5\", \"day\", \"week\", \"month\"]\n",
    "\n",
    "for ticker in tickers:\n",
    "    for interval in intervals:\n",
    "        df = pyupbit.get_ohlcv_from(ticker=ticker, interval=interval, fromDatetime=start_date, to=end_date)\n",
    "        if df is not None:\n",
    "            directory = f\"../csv/{ticker.split('-')[1]}\"\n",
    "            os.makedirs(directory, exist_ok=True)\n",
    "            \n",
    "            file_path = os.path.join(directory, f\"{ticker.replace('-', '_')}_{interval}.csv\")\n",
    "            \n",
    "            df.to_csv(file_path)\n",
    "            print(f\"Saved: {file_path}\")"
   ]
  },
  {
   "cell_type": "code",
   "execution_count": 68,
   "metadata": {},
   "outputs": [
    {
     "name": "stdout",
     "output_type": "stream",
     "text": [
      "Saved: ../csv/BTC/KRW_BTC_minute1.csv\n",
      "Saved: ../csv/BTC/KRW_BTC_minute3.csv\n",
      "Saved: ../csv/BTC/KRW_BTC_minute5.csv\n",
      "Saved: ../csv/BTC/KRW_BTC_day.csv\n",
      "Saved: ../csv/BTC/KRW_BTC_week.csv\n",
      "Saved: ../csv/BTC/KRW_BTC_month.csv\n"
     ]
    }
   ],
   "source": [
    "import pyupbit\n",
    "import os\n",
    "\n",
    "start_date = \"2023-05-01 12:00:00\"\n",
    "end_date = \"2024-05-23 12:00:00\"\n",
    "tickers = [\"KRW-BTC\"]\n",
    "intervals = [\"minute1\", \"minute3\", \"minute5\", \"day\", \"week\", \"month\"]\n",
    "\n",
    "for ticker in tickers:\n",
    "    for interval in intervals:\n",
    "        df = pyupbit.get_ohlcv_from(ticker=ticker, interval=interval, fromDatetime=start_date, to=end_date)\n",
    "        if df is not None:\n",
    "            directory = f\"../csv/{ticker.split('-')[1]}\"\n",
    "            os.makedirs(directory, exist_ok=True)\n",
    "            \n",
    "            file_path = os.path.join(directory, f\"{ticker.replace('-', '_')}_{interval}.csv\")\n",
    "            \n",
    "            df.to_csv(file_path)\n",
    "            print(f\"Saved: {file_path}\")"
   ]
  },
  {
   "cell_type": "code",
   "execution_count": null,
   "metadata": {},
   "outputs": [],
   "source": []
  }
 ],
 "metadata": {
  "kernelspec": {
   "display_name": "sipethon",
   "language": "python",
   "name": "python3"
  },
  "language_info": {
   "codemirror_mode": {
    "name": "ipython",
    "version": 3
   },
   "file_extension": ".py",
   "mimetype": "text/x-python",
   "name": "python",
   "nbconvert_exporter": "python",
   "pygments_lexer": "ipython3",
   "version": "3.12.3"
  }
 },
 "nbformat": 4,
 "nbformat_minor": 2
}
