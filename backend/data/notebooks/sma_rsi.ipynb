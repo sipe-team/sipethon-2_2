{
 "cells": [
  {
   "cell_type": "code",
   "execution_count": 2,
   "metadata": {},
   "outputs": [],
   "source": [
    "import pandas as pd\n",
    "csv_path = '../csv/BTC/KRW_BTC_day.csv'\n",
    "df = pd.read_csv(csv_path)\n",
    "\n",
    "df['Unnamed: 0'] = pd.to_datetime(df['Unnamed: 0'])\n",
    "df.set_index('Unnamed: 0', inplace=True)\n",
    "df.columns = df.columns.str.capitalize()"
   ]
  },
  {
   "cell_type": "code",
   "execution_count": 3,
   "metadata": {},
   "outputs": [],
   "source": [
    "import pandas as pd\n",
    "\n",
    "\n",
    "def SMA(array, n):\n",
    "    \"\"\"Simple moving average\"\"\"\n",
    "    return pd.Series(array).rolling(n).mean()\n",
    "\n",
    "\n",
    "def RSI(array, n):\n",
    "    \"\"\"Relative strength index\"\"\"\n",
    "    # Approximate; good enough\n",
    "    gain = pd.Series(array).diff()\n",
    "    loss = gain.copy()\n",
    "    gain[gain < 0] = 0\n",
    "    loss[loss > 0] = 0\n",
    "    rs = gain.ewm(n).mean() / loss.abs().ewm(n).mean()\n",
    "    return 100 - 100 / (1 + rs)"
   ]
  },
  {
   "cell_type": "code",
   "execution_count": 6,
   "metadata": {},
   "outputs": [
    {
     "data": {
      "text/plain": [
       "Start                     2023-05-02 09:00:00\n",
       "End                       2024-05-23 09:00:00\n",
       "Duration                    387 days 00:00:00\n",
       "Exposure Time [%]                   18.041237\n",
       "Equity Final [$]                 1458258700.0\n",
       "Equity Peak [$]                  1689799720.0\n",
       "Return [%]                           45.82587\n",
       "Buy & Hold Return [%]              147.103242\n",
       "Return (Ann.) [%]                   42.601053\n",
       "Volatility (Ann.) [%]               33.266453\n",
       "Sharpe Ratio                         1.280601\n",
       "Sortino Ratio                        3.603501\n",
       "Calmar Ratio                         3.109049\n",
       "Max. Drawdown [%]                  -13.702276\n",
       "Avg. Drawdown [%]                   -3.730775\n",
       "Max. Drawdown Duration       83 days 00:00:00\n",
       "Avg. Drawdown Duration       21 days 00:00:00\n",
       "# Trades                                    3\n",
       "Win Rate [%]                        66.666667\n",
       "Best Trade [%]                      37.582233\n",
       "Worst Trade [%]                     -7.582717\n",
       "Avg. Trade [%]                      13.551194\n",
       "Max. Trade Duration          34 days 00:00:00\n",
       "Avg. Trade Duration          23 days 00:00:00\n",
       "Profit Factor                        6.954113\n",
       "Expectancy [%]                      15.049452\n",
       "SQN                                  0.985631\n",
       "_strategy                              System\n",
       "_equity_curve                             ...\n",
       "_trades                      Size  EntryBa...\n",
       "dtype: object"
      ]
     },
     "execution_count": 6,
     "metadata": {},
     "output_type": "execute_result"
    }
   ],
   "source": [
    "from backtesting import Strategy, Backtest\n",
    "from backtesting.lib import resample_apply\n",
    "\n",
    "\n",
    "class System(Strategy):\n",
    "    d_rsi = 30  # Daily RSI lookback periods\n",
    "    w_rsi = 30  # Weekly\n",
    "    level = 70\n",
    "\n",
    "    def init(self):\n",
    "        # Compute moving averages the strategy demands\n",
    "        self.ma10 = self.I(SMA, self.data.Close, 10)\n",
    "        self.ma20 = self.I(SMA, self.data.Close, 20)\n",
    "        self.ma50 = self.I(SMA, self.data.Close, 50)\n",
    "        self.ma100 = self.I(SMA, self.data.Close, 100)\n",
    "\n",
    "        # Compute daily RSI(30)\n",
    "        self.daily_rsi = self.I(RSI, self.data.Close, self.d_rsi)\n",
    "\n",
    "        # To construct weekly RSI, we can use `resample_apply()`\n",
    "        # helper function from the library\n",
    "        self.weekly_rsi = resample_apply(\n",
    "            'W-FRI', RSI, self.data.Close, self.w_rsi)\n",
    "\n",
    "\n",
    "    def next(self):\n",
    "        price = self.data.Close[-1]\n",
    "\n",
    "        # If we don't already have a position, and\n",
    "        # if all conditions are satisfied, enter long.\n",
    "        if (not self.position and\n",
    "            self.daily_rsi[-1] > self.level and\n",
    "            self.weekly_rsi[-1] > self.level and\n",
    "            self.weekly_rsi[-1] > self.daily_rsi[-1] and\n",
    "            self.ma10[-1] > self.ma20[-1] > self.ma50[-1] > self.ma100[-1] and\n",
    "            price > self.ma10[-1]):\n",
    "\n",
    "            # Buy at market price on next open, but do\n",
    "            # set 8% fixed stop loss.\n",
    "            self.buy(sl=.92 * price)\n",
    "\n",
    "        # If the price closes 2% or more below 10-day MA\n",
    "        # close the position, if any.\n",
    "        elif price < .98 * self.ma10[-1]:\n",
    "            self.position.close()\n",
    "bt = Backtest(df, System, cash=1000000000, commission=.002)\n",
    "stats = bt.run()\n",
    "stats\n",
    "\n"
   ]
  },
  {
   "cell_type": "code",
   "execution_count": null,
   "metadata": {},
   "outputs": [],
   "source": []
  }
 ],
 "metadata": {
  "kernelspec": {
   "display_name": "sipethon",
   "language": "python",
   "name": "python3"
  },
  "language_info": {
   "codemirror_mode": {
    "name": "ipython",
    "version": 3
   },
   "file_extension": ".py",
   "mimetype": "text/x-python",
   "name": "python",
   "nbconvert_exporter": "python",
   "pygments_lexer": "ipython3",
   "version": "3.12.2"
  }
 },
 "nbformat": 4,
 "nbformat_minor": 2
}
